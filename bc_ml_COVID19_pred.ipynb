{
 "cells": [
  {
   "cell_type": "markdown",
   "id": "71118d64-0feb-4647-b814-5813760de14c",
   "metadata": {},
   "source": [
    "## Binary Classification using Machine Learning"
   ]
  },
  {
   "cell_type": "markdown",
   "id": "c19f64f8-8bec-4c07-abb7-322e87126085",
   "metadata": {},
   "source": [
    "### Problem\n",
    "1. We would like to predict given a patient, is they have COVID-19?\n",
    "2. Dataset: corona.csv\n",
    "     - if Corona == 1, then the person is positive for COVID, else no."
   ]
  },
  {
   "cell_type": "markdown",
   "id": "faf41fa1-9838-4be6-a5f8-5ff57447682c",
   "metadata": {},
   "source": [
    "### Preliminary questions\n",
    "- Which component needs improving?\n",
    "- What prior knowledge the agent has, which influences the model it builds?\n",
    "- What data and feedback on the data is available?"
   ]
  },
  {
   "cell_type": "code",
   "execution_count": 1,
   "id": "2ccfaeec-dcac-4e6d-b44d-76e7bfdabb48",
   "metadata": {},
   "outputs": [],
   "source": [
    "import numpy as np\n",
    "import pandas as pd\n",
    "import matplotlib.pyplot as plt\n",
    "import seaborn as sns\n",
    "import matplotlib\n",
    "%matplotlib inline\n",
    "from sklearn.svm import SVC\n",
    "from sklearn.model_selection import cross_val_score, cross_val_predict\n",
    "from sklearn.metrics import accuracy_score, precision_score, recall_score, f1_score"
   ]
  },
  {
   "cell_type": "markdown",
   "id": "719fbabb-1338-4efc-b67a-ed0e23e4ade8",
   "metadata": {},
   "source": [
    "### Step 0: Load the data"
   ]
  },
  {
   "cell_type": "code",
   "execution_count": 2,
   "id": "5a0fdef2-924b-4b53-a879-d265b767c12b",
   "metadata": {},
   "outputs": [
    {
     "data": {
      "text/html": [
       "<div>\n",
       "<style scoped>\n",
       "    .dataframe tbody tr th:only-of-type {\n",
       "        vertical-align: middle;\n",
       "    }\n",
       "\n",
       "    .dataframe tbody tr th {\n",
       "        vertical-align: top;\n",
       "    }\n",
       "\n",
       "    .dataframe thead th {\n",
       "        text-align: right;\n",
       "    }\n",
       "</style>\n",
       "<table border=\"1\" class=\"dataframe\">\n",
       "  <thead>\n",
       "    <tr style=\"text-align: right;\">\n",
       "      <th></th>\n",
       "      <th>Ind_ID</th>\n",
       "      <th>Test_date</th>\n",
       "      <th>Cough_symptoms</th>\n",
       "      <th>Fever</th>\n",
       "      <th>Sore_throat</th>\n",
       "      <th>Shortness_of_breath</th>\n",
       "      <th>Headache</th>\n",
       "      <th>Corona</th>\n",
       "      <th>Age_60_above</th>\n",
       "      <th>Sex</th>\n",
       "      <th>Known_contact</th>\n",
       "    </tr>\n",
       "  </thead>\n",
       "  <tbody>\n",
       "    <tr>\n",
       "      <th>0</th>\n",
       "      <td>1</td>\n",
       "      <td>11-03-2020</td>\n",
       "      <td>True</td>\n",
       "      <td>False</td>\n",
       "      <td>True</td>\n",
       "      <td>False</td>\n",
       "      <td>False</td>\n",
       "      <td>negative</td>\n",
       "      <td>NaN</td>\n",
       "      <td>NaN</td>\n",
       "      <td>Abroad</td>\n",
       "    </tr>\n",
       "    <tr>\n",
       "      <th>1</th>\n",
       "      <td>2</td>\n",
       "      <td>11-03-2020</td>\n",
       "      <td>False</td>\n",
       "      <td>True</td>\n",
       "      <td>False</td>\n",
       "      <td>False</td>\n",
       "      <td>False</td>\n",
       "      <td>positive</td>\n",
       "      <td>NaN</td>\n",
       "      <td>NaN</td>\n",
       "      <td>Abroad</td>\n",
       "    </tr>\n",
       "    <tr>\n",
       "      <th>2</th>\n",
       "      <td>3</td>\n",
       "      <td>11-03-2020</td>\n",
       "      <td>False</td>\n",
       "      <td>True</td>\n",
       "      <td>False</td>\n",
       "      <td>False</td>\n",
       "      <td>False</td>\n",
       "      <td>positive</td>\n",
       "      <td>NaN</td>\n",
       "      <td>NaN</td>\n",
       "      <td>Abroad</td>\n",
       "    </tr>\n",
       "    <tr>\n",
       "      <th>3</th>\n",
       "      <td>4</td>\n",
       "      <td>11-03-2020</td>\n",
       "      <td>True</td>\n",
       "      <td>False</td>\n",
       "      <td>False</td>\n",
       "      <td>False</td>\n",
       "      <td>False</td>\n",
       "      <td>negative</td>\n",
       "      <td>NaN</td>\n",
       "      <td>NaN</td>\n",
       "      <td>Abroad</td>\n",
       "    </tr>\n",
       "    <tr>\n",
       "      <th>4</th>\n",
       "      <td>5</td>\n",
       "      <td>11-03-2020</td>\n",
       "      <td>True</td>\n",
       "      <td>False</td>\n",
       "      <td>False</td>\n",
       "      <td>False</td>\n",
       "      <td>False</td>\n",
       "      <td>negative</td>\n",
       "      <td>NaN</td>\n",
       "      <td>NaN</td>\n",
       "      <td>Contact with confirmed</td>\n",
       "    </tr>\n",
       "  </tbody>\n",
       "</table>\n",
       "</div>"
      ],
      "text/plain": [
       "   Ind_ID   Test_date Cough_symptoms  Fever Sore_throat Shortness_of_breath  \\\n",
       "0       1  11-03-2020           True  False        True               False   \n",
       "1       2  11-03-2020          False   True       False               False   \n",
       "2       3  11-03-2020          False   True       False               False   \n",
       "3       4  11-03-2020           True  False       False               False   \n",
       "4       5  11-03-2020           True  False       False               False   \n",
       "\n",
       "  Headache    Corona Age_60_above  Sex           Known_contact  \n",
       "0    False  negative          NaN  NaN                  Abroad  \n",
       "1    False  positive          NaN  NaN                  Abroad  \n",
       "2    False  positive          NaN  NaN                  Abroad  \n",
       "3    False  negative          NaN  NaN                  Abroad  \n",
       "4    False  negative          NaN  NaN  Contact with confirmed  "
      ]
     },
     "execution_count": 2,
     "metadata": {},
     "output_type": "execute_result"
    }
   ],
   "source": [
    "corona_df = pd.read_csv('./corona.csv',low_memory=False) #this low memory tage gets rid of a warning message that we will deal with later.\n",
    "corona_df.head()"
   ]
  },
  {
   "cell_type": "markdown",
   "id": "6b6ea199-9eed-42e5-b748-7f349ccf4846",
   "metadata": {},
   "source": [
    "#### Questions:\n",
    "- What is the size of the data?\n",
    "- How to load a dataset that has non-numbers?\n",
    "- What are the features (predictors and target variable) in my data?"
   ]
  },
  {
   "cell_type": "code",
   "execution_count": 3,
   "id": "ef023055-4328-449f-b63d-ccda60a69fc9",
   "metadata": {},
   "outputs": [
    {
     "data": {
      "text/plain": [
       "(278848, 11)"
      ]
     },
     "execution_count": 3,
     "metadata": {},
     "output_type": "execute_result"
    }
   ],
   "source": [
    "# We want to know the size of the data because we want to know what model to use.\n",
    "# too few data points for a square data model. We want to makre sure we have enough data to focus on the data she was saying\n",
    "# that a 100 by 100 data sheet is not enough.\n",
    "# Therefore we need to reduce the data size or the demention.\n",
    "\n",
    "# since we have 569 rows we would look out for a simple model.\n",
    "corona_df.shape"
   ]
  },
  {
   "cell_type": "markdown",
   "id": "4c9a300a-1b4d-4da9-9cdd-64b90333882c",
   "metadata": {},
   "source": [
    "### Step 1: Preview the first 5 rows"
   ]
  },
  {
   "cell_type": "code",
   "execution_count": 4,
   "id": "d4807d00-61f3-43a5-a946-4b6420f70dbe",
   "metadata": {},
   "outputs": [
    {
     "data": {
      "text/html": [
       "<div>\n",
       "<style scoped>\n",
       "    .dataframe tbody tr th:only-of-type {\n",
       "        vertical-align: middle;\n",
       "    }\n",
       "\n",
       "    .dataframe tbody tr th {\n",
       "        vertical-align: top;\n",
       "    }\n",
       "\n",
       "    .dataframe thead th {\n",
       "        text-align: right;\n",
       "    }\n",
       "</style>\n",
       "<table border=\"1\" class=\"dataframe\">\n",
       "  <thead>\n",
       "    <tr style=\"text-align: right;\">\n",
       "      <th></th>\n",
       "      <th>Ind_ID</th>\n",
       "      <th>Test_date</th>\n",
       "      <th>Cough_symptoms</th>\n",
       "      <th>Fever</th>\n",
       "      <th>Sore_throat</th>\n",
       "      <th>Shortness_of_breath</th>\n",
       "      <th>Headache</th>\n",
       "      <th>Corona</th>\n",
       "      <th>Age_60_above</th>\n",
       "      <th>Sex</th>\n",
       "      <th>Known_contact</th>\n",
       "    </tr>\n",
       "  </thead>\n",
       "  <tbody>\n",
       "    <tr>\n",
       "      <th>0</th>\n",
       "      <td>1</td>\n",
       "      <td>11-03-2020</td>\n",
       "      <td>True</td>\n",
       "      <td>False</td>\n",
       "      <td>True</td>\n",
       "      <td>False</td>\n",
       "      <td>False</td>\n",
       "      <td>negative</td>\n",
       "      <td>NaN</td>\n",
       "      <td>NaN</td>\n",
       "      <td>Abroad</td>\n",
       "    </tr>\n",
       "    <tr>\n",
       "      <th>1</th>\n",
       "      <td>2</td>\n",
       "      <td>11-03-2020</td>\n",
       "      <td>False</td>\n",
       "      <td>True</td>\n",
       "      <td>False</td>\n",
       "      <td>False</td>\n",
       "      <td>False</td>\n",
       "      <td>positive</td>\n",
       "      <td>NaN</td>\n",
       "      <td>NaN</td>\n",
       "      <td>Abroad</td>\n",
       "    </tr>\n",
       "    <tr>\n",
       "      <th>2</th>\n",
       "      <td>3</td>\n",
       "      <td>11-03-2020</td>\n",
       "      <td>False</td>\n",
       "      <td>True</td>\n",
       "      <td>False</td>\n",
       "      <td>False</td>\n",
       "      <td>False</td>\n",
       "      <td>positive</td>\n",
       "      <td>NaN</td>\n",
       "      <td>NaN</td>\n",
       "      <td>Abroad</td>\n",
       "    </tr>\n",
       "    <tr>\n",
       "      <th>3</th>\n",
       "      <td>4</td>\n",
       "      <td>11-03-2020</td>\n",
       "      <td>True</td>\n",
       "      <td>False</td>\n",
       "      <td>False</td>\n",
       "      <td>False</td>\n",
       "      <td>False</td>\n",
       "      <td>negative</td>\n",
       "      <td>NaN</td>\n",
       "      <td>NaN</td>\n",
       "      <td>Abroad</td>\n",
       "    </tr>\n",
       "    <tr>\n",
       "      <th>4</th>\n",
       "      <td>5</td>\n",
       "      <td>11-03-2020</td>\n",
       "      <td>True</td>\n",
       "      <td>False</td>\n",
       "      <td>False</td>\n",
       "      <td>False</td>\n",
       "      <td>False</td>\n",
       "      <td>negative</td>\n",
       "      <td>NaN</td>\n",
       "      <td>NaN</td>\n",
       "      <td>Contact with confirmed</td>\n",
       "    </tr>\n",
       "  </tbody>\n",
       "</table>\n",
       "</div>"
      ],
      "text/plain": [
       "   Ind_ID   Test_date Cough_symptoms  Fever Sore_throat Shortness_of_breath  \\\n",
       "0       1  11-03-2020           True  False        True               False   \n",
       "1       2  11-03-2020          False   True       False               False   \n",
       "2       3  11-03-2020          False   True       False               False   \n",
       "3       4  11-03-2020           True  False       False               False   \n",
       "4       5  11-03-2020           True  False       False               False   \n",
       "\n",
       "  Headache    Corona Age_60_above  Sex           Known_contact  \n",
       "0    False  negative          NaN  NaN                  Abroad  \n",
       "1    False  positive          NaN  NaN                  Abroad  \n",
       "2    False  positive          NaN  NaN                  Abroad  \n",
       "3    False  negative          NaN  NaN                  Abroad  \n",
       "4    False  negative          NaN  NaN  Contact with confirmed  "
      ]
     },
     "execution_count": 4,
     "metadata": {},
     "output_type": "execute_result"
    }
   ],
   "source": [
    "# if we try to make the model too complex it will memorize and not be able to generalize.\n",
    "# She gave the example of 2 or 3 example to generalize instead of memorizing.\n",
    "# if the concept is simple enough you dont need many examples\n",
    "# however, the more complex the more examples needed.\n",
    "corona_df.head()"
   ]
  },
  {
   "cell_type": "code",
   "execution_count": 5,
   "id": "4b20c05a-5a7c-4c5b-8301-0ddd1e3583b5",
   "metadata": {},
   "outputs": [
    {
     "data": {
      "text/plain": [
       "Ind_ID                      0\n",
       "Test_date                   0\n",
       "Cough_symptoms            252\n",
       "Fever                     252\n",
       "Sore_throat                 1\n",
       "Shortness_of_breath         1\n",
       "Headache                    1\n",
       "Corona                      0\n",
       "Age_60_above           127320\n",
       "Sex                     19563\n",
       "Known_contact               0\n",
       "dtype: int64"
      ]
     },
     "execution_count": 5,
     "metadata": {},
     "output_type": "execute_result"
    }
   ],
   "source": [
    "# too many missing datapoints: what should we do give these missing values.\n",
    "# in the case of just a few: just drop them\n",
    "# In the case of lots of data missing from the same column: we might want to drop columns.\n",
    "\n",
    "# in one we drop rows. In the other we drop columns\n",
    "# if we cannot afford dropping columns then we have to feel out those missing values.\n",
    "    # This is where we would have to use the mean of the other data points (average).\n",
    "\n",
    "#The following function tells us the number of missing values:\n",
    "corona_df.isna().sum()"
   ]
  },
  {
   "cell_type": "markdown",
   "id": "890c952c-a861-4d8a-a49b-059996bdd35c",
   "metadata": {},
   "source": [
    "#### Questions:\n",
    "- Are there any missing data? If so, how to handle them?\n",
    "How we will be handling the data depends on the severity of the missing data. In the case about with sore throat, shortness of breath, and headache. We can just delete those rows of data. But for the other values we need to make a potentially different decision:\n",
    "Given that we have 278,848 rows of data, I think it is safe to say that just about half of my Age 60 above data is empty. This means we should likelt just remove the column all together. For sex we should just run the mean by it\n",
    "\n",
    "#look at above."
   ]
  },
  {
   "cell_type": "markdown",
   "id": "b6b6c22f-ba38-4356-be47-ed30687c1759",
   "metadata": {},
   "source": [
    "### Step 2: Prepare the output"
   ]
  },
  {
   "cell_type": "markdown",
   "id": "39a261b9-f7fb-4431-98c4-60dbc49e1baa",
   "metadata": {},
   "source": [
    "#### First thing we should do is determine what columns we can drop from our data.\n",
    "- For empty row in Sore_throat, Shortness_of_breath, and Headache we are going to just drop the row. \n",
    "This is because it will not impact the overall impact of this data is near to none."
   ]
  },
  {
   "cell_type": "code",
   "execution_count": 6,
   "id": "e739de51-f15a-4d21-8903-8823ecb8dfc7",
   "metadata": {},
   "outputs": [
    {
     "data": {
      "text/plain": [
       "Ind_ID                      0\n",
       "Test_date                   0\n",
       "Cough_symptoms            251\n",
       "Fever                     251\n",
       "Sore_throat                 0\n",
       "Shortness_of_breath         0\n",
       "Headache                    0\n",
       "Corona                      0\n",
       "Age_60_above           127319\n",
       "Sex                     19562\n",
       "Known_contact               0\n",
       "dtype: int64"
      ]
     },
     "execution_count": 6,
     "metadata": {},
     "output_type": "execute_result"
    }
   ],
   "source": [
    "corona_df.dropna(subset = ['Sore_throat'], inplace=True)\n",
    "corona_df.dropna(subset = ['Shortness_of_breath'], inplace=True)\n",
    "corona_df.dropna(subset = ['Headache'], inplace=True)\n",
    "corona_df.isna().sum()"
   ]
  },
  {
   "cell_type": "markdown",
   "id": "cc621aca-3eac-463f-b5e2-5fc6983b549c",
   "metadata": {},
   "source": [
    "- Now what can we do with Age and Sex?\n",
    "    - In the case of Sex I think we can drop the column of it all together since it should not play a role in determining if a person has COVID or not.\n",
    "    - In the case of Age, however, since we are missing close to half of the data it is not going to be a usful metric for determining tests positive or negative. Therefore, for this one we will also just drop it.\n",
    "    - Also we are removing ID and Date feilds from the data since our machine learning model does not need those."
   ]
  },
  {
   "cell_type": "code",
   "execution_count": 7,
   "id": "e3ec11b6-f90f-46fc-80c6-8112f3ce6848",
   "metadata": {},
   "outputs": [
    {
     "data": {
      "text/plain": [
       "Cough_symptoms         251\n",
       "Fever                  251\n",
       "Sore_throat              0\n",
       "Shortness_of_breath      0\n",
       "Headache                 0\n",
       "Corona                   0\n",
       "Known_contact            0\n",
       "dtype: int64"
      ]
     },
     "execution_count": 7,
     "metadata": {},
     "output_type": "execute_result"
    }
   ],
   "source": [
    "corona_df.drop(['Age_60_above'], axis = 'columns', inplace=True)\n",
    "corona_df.drop(['Sex'], axis = 'columns', inplace=True)\n",
    "corona_df.drop(['Ind_ID'], axis=1, inplace=True)\n",
    "corona_df.drop(['Test_date'], axis=1, inplace=True)\n",
    "corona_df.isna().sum()"
   ]
  },
  {
   "cell_type": "markdown",
   "id": "5b03ee66-80f2-49f2-940c-57fe73aeb7dd",
   "metadata": {},
   "source": [
    "#### Second we should convert the data in the columns to another form for ease of calculation\n",
    "- We can accomplish this for all columns and rows by examining their unique inputs (Note, nan or empty inputs will be delt with later)."
   ]
  },
  {
   "cell_type": "code",
   "execution_count": 8,
   "id": "a9c3bd9a-6690-47e9-8b51-fc42db65bddc",
   "metadata": {},
   "outputs": [
    {
     "data": {
      "text/plain": [
       "array([True, False, nan], dtype=object)"
      ]
     },
     "execution_count": 8,
     "metadata": {},
     "output_type": "execute_result"
    }
   ],
   "source": [
    "corona_df['Cough_symptoms'].unique()"
   ]
  },
  {
   "cell_type": "code",
   "execution_count": 9,
   "id": "7eddcc34-a644-4ea4-8693-685ba612ae39",
   "metadata": {},
   "outputs": [
    {
     "data": {
      "text/plain": [
       "array([False, True, nan], dtype=object)"
      ]
     },
     "execution_count": 9,
     "metadata": {},
     "output_type": "execute_result"
    }
   ],
   "source": [
    "corona_df['Fever'].unique()"
   ]
  },
  {
   "cell_type": "code",
   "execution_count": 10,
   "id": "537e3e8a-6b27-41e3-8dba-8013bfad9004",
   "metadata": {},
   "outputs": [
    {
     "data": {
      "text/plain": [
       "array([True, False], dtype=object)"
      ]
     },
     "execution_count": 10,
     "metadata": {},
     "output_type": "execute_result"
    }
   ],
   "source": [
    "corona_df['Sore_throat'].unique()"
   ]
  },
  {
   "cell_type": "code",
   "execution_count": 11,
   "id": "6268ff03-c0df-450e-b815-d457765344a4",
   "metadata": {},
   "outputs": [
    {
     "data": {
      "text/plain": [
       "array([False, True], dtype=object)"
      ]
     },
     "execution_count": 11,
     "metadata": {},
     "output_type": "execute_result"
    }
   ],
   "source": [
    "corona_df['Shortness_of_breath'].unique()"
   ]
  },
  {
   "cell_type": "code",
   "execution_count": 12,
   "id": "0b30069d-608b-4a69-9aa6-a4ea902516dc",
   "metadata": {},
   "outputs": [
    {
     "data": {
      "text/plain": [
       "array([False, True], dtype=object)"
      ]
     },
     "execution_count": 12,
     "metadata": {},
     "output_type": "execute_result"
    }
   ],
   "source": [
    "corona_df['Headache'].unique()"
   ]
  },
  {
   "cell_type": "code",
   "execution_count": 13,
   "id": "7e20dde3-99f8-465e-80ce-7bb20584106a",
   "metadata": {},
   "outputs": [
    {
     "data": {
      "text/plain": [
       "array(['negative', 'positive', 'other'], dtype=object)"
      ]
     },
     "execution_count": 13,
     "metadata": {},
     "output_type": "execute_result"
    }
   ],
   "source": [
    "corona_df['Corona'].unique()"
   ]
  },
  {
   "cell_type": "code",
   "execution_count": 14,
   "id": "fd15d9cd-8203-4657-af7f-4be65c531d03",
   "metadata": {},
   "outputs": [
    {
     "data": {
      "text/plain": [
       "array(['Abroad', 'Contact with confirmed', 'Other'], dtype=object)"
      ]
     },
     "execution_count": 14,
     "metadata": {},
     "output_type": "execute_result"
    }
   ],
   "source": [
    "corona_df['Known_contact'].unique()"
   ]
  },
  {
   "cell_type": "markdown",
   "id": "88c7a385-3de0-4c1b-ab1b-3e8f6e71d6df",
   "metadata": {},
   "source": [
    "- Based on the given information above we can clean up the data by changing all true and false to 1 and 0.\n",
    "  - However, we will hold off on changing Fever and Cough_symptoms so not to overwrite the null data.\n",
    "  - We are also changing positive and negative to 1 and 0.\n",
    "  - Since we want to be cautious, if a test is 'other' (not positive or negative) we will treat it as positive. This will help to prevent further spread in the case of false negative since this would be more harmful.\n",
    "  - For Known_contact, we are most intereseted in those who have covid and people who have been Abroad due to their greater likelihood of exposure. This means that we will be making those both 1 while making other 0."
   ]
  },
  {
   "cell_type": "code",
   "execution_count": 15,
   "id": "354ddf33-92dc-4d89-a8d3-9328f0a59eb1",
   "metadata": {},
   "outputs": [
    {
     "data": {
      "text/html": [
       "<div>\n",
       "<style scoped>\n",
       "    .dataframe tbody tr th:only-of-type {\n",
       "        vertical-align: middle;\n",
       "    }\n",
       "\n",
       "    .dataframe tbody tr th {\n",
       "        vertical-align: top;\n",
       "    }\n",
       "\n",
       "    .dataframe thead th {\n",
       "        text-align: right;\n",
       "    }\n",
       "</style>\n",
       "<table border=\"1\" class=\"dataframe\">\n",
       "  <thead>\n",
       "    <tr style=\"text-align: right;\">\n",
       "      <th></th>\n",
       "      <th>Cough_symptoms</th>\n",
       "      <th>Fever</th>\n",
       "      <th>Sore_throat</th>\n",
       "      <th>Shortness_of_breath</th>\n",
       "      <th>Headache</th>\n",
       "      <th>Corona</th>\n",
       "      <th>Known_contact</th>\n",
       "    </tr>\n",
       "  </thead>\n",
       "  <tbody>\n",
       "    <tr>\n",
       "      <th>0</th>\n",
       "      <td>True</td>\n",
       "      <td>False</td>\n",
       "      <td>1</td>\n",
       "      <td>0</td>\n",
       "      <td>0</td>\n",
       "      <td>0</td>\n",
       "      <td>1</td>\n",
       "    </tr>\n",
       "    <tr>\n",
       "      <th>1</th>\n",
       "      <td>False</td>\n",
       "      <td>True</td>\n",
       "      <td>0</td>\n",
       "      <td>0</td>\n",
       "      <td>0</td>\n",
       "      <td>1</td>\n",
       "      <td>1</td>\n",
       "    </tr>\n",
       "    <tr>\n",
       "      <th>2</th>\n",
       "      <td>False</td>\n",
       "      <td>True</td>\n",
       "      <td>0</td>\n",
       "      <td>0</td>\n",
       "      <td>0</td>\n",
       "      <td>1</td>\n",
       "      <td>1</td>\n",
       "    </tr>\n",
       "    <tr>\n",
       "      <th>3</th>\n",
       "      <td>True</td>\n",
       "      <td>False</td>\n",
       "      <td>0</td>\n",
       "      <td>0</td>\n",
       "      <td>0</td>\n",
       "      <td>0</td>\n",
       "      <td>1</td>\n",
       "    </tr>\n",
       "    <tr>\n",
       "      <th>4</th>\n",
       "      <td>True</td>\n",
       "      <td>False</td>\n",
       "      <td>0</td>\n",
       "      <td>0</td>\n",
       "      <td>0</td>\n",
       "      <td>0</td>\n",
       "      <td>1</td>\n",
       "    </tr>\n",
       "  </tbody>\n",
       "</table>\n",
       "</div>"
      ],
      "text/plain": [
       "  Cough_symptoms  Fever  Sore_throat  Shortness_of_breath  Headache  Corona  \\\n",
       "0           True  False            1                    0         0       0   \n",
       "1          False   True            0                    0         0       1   \n",
       "2          False   True            0                    0         0       1   \n",
       "3           True  False            0                    0         0       0   \n",
       "4           True  False            0                    0         0       0   \n",
       "\n",
       "   Known_contact  \n",
       "0              1  \n",
       "1              1  \n",
       "2              1  \n",
       "3              1  \n",
       "4              1  "
      ]
     },
     "execution_count": 15,
     "metadata": {},
     "output_type": "execute_result"
    }
   ],
   "source": [
    "corona_df['Sore_throat'] = corona_df['Sore_throat'].astype(bool).astype(int)\n",
    "corona_df['Shortness_of_breath'] = corona_df['Shortness_of_breath'].astype(bool).astype(int)\n",
    "corona_df['Headache'] = corona_df['Headache'].astype(bool).astype(int)\n",
    "corona_df['Corona'] = corona_df['Corona'].replace({'negative': 0,'other':0, 'positive': 1})\n",
    "corona_df['Known_contact'] = corona_df['Known_contact'].replace({'Abroad': 1,'Other': 0, 'Contact with confirmed': 1})\n",
    "corona_df.head()"
   ]
  },
  {
   "cell_type": "markdown",
   "id": "5d16b4d0-47f7-40d1-9093-7a52416d9a90",
   "metadata": {},
   "source": [
    "#### Third let's decide what to do with the rest of the Null rows and columns\n",
    "- That is Fever and Cough_symptoms."
   ]
  },
  {
   "cell_type": "code",
   "execution_count": 16,
   "id": "86cdc3f2-756e-40d2-9db3-6792cb3e1038",
   "metadata": {},
   "outputs": [
    {
     "data": {
      "text/plain": [
       "Cough_symptoms         251\n",
       "Fever                  251\n",
       "Sore_throat              0\n",
       "Shortness_of_breath      0\n",
       "Headache                 0\n",
       "Corona                   0\n",
       "Known_contact            0\n",
       "dtype: int64"
      ]
     },
     "execution_count": 16,
     "metadata": {},
     "output_type": "execute_result"
    }
   ],
   "source": [
    "corona_df.isna().sum()"
   ]
  },
  {
   "cell_type": "markdown",
   "id": "315d4f7e-6fb0-4475-8349-d99366f4ff05",
   "metadata": {},
   "source": [
    "- Now for the two culumns that are missing 251 values. These numbers are larger than those of the rows we dropped. In this case we do not want to drop these points despite these rows only representing 251/278,848 or 0.0009% of the data. It would be better to just fill the empty data with the average of that data."
   ]
  },
  {
   "cell_type": "code",
   "execution_count": 17,
   "id": "25a27007-5e1a-42fb-8c81-d4235996a81c",
   "metadata": {},
   "outputs": [
    {
     "data": {
      "text/plain": [
       "Cough_symptoms           0\n",
       "Fever                  251\n",
       "Sore_throat              0\n",
       "Shortness_of_breath      0\n",
       "Headache                 0\n",
       "Corona                   0\n",
       "Known_contact            0\n",
       "dtype: int64"
      ]
     },
     "execution_count": 17,
     "metadata": {},
     "output_type": "execute_result"
    }
   ],
   "source": [
    "corona_df['Cough_symptoms'].fillna(value=corona_df['Cough_symptoms'].mean(), inplace=True)\n",
    "corona_df.isna().sum()"
   ]
  },
  {
   "cell_type": "markdown",
   "id": "9ec65b1f-4a3f-470d-a219-9c673cc7a7ab",
   "metadata": {},
   "source": [
    "- Also we can do the same with Fever column data."
   ]
  },
  {
   "cell_type": "code",
   "execution_count": 18,
   "id": "750a53bc-33b1-48da-aa85-4277c3ddb4df",
   "metadata": {},
   "outputs": [
    {
     "data": {
      "text/plain": [
       "Cough_symptoms         0\n",
       "Fever                  0\n",
       "Sore_throat            0\n",
       "Shortness_of_breath    0\n",
       "Headache               0\n",
       "Corona                 0\n",
       "Known_contact          0\n",
       "dtype: int64"
      ]
     },
     "execution_count": 18,
     "metadata": {},
     "output_type": "execute_result"
    }
   ],
   "source": [
    "corona_df['Fever'].fillna(value=corona_df['Fever'].mean(), inplace=True)\n",
    "corona_df.isna().sum()"
   ]
  },
  {
   "cell_type": "markdown",
   "id": "6ad9f0f8-42ed-4e70-9998-b9c70342ee63",
   "metadata": {},
   "source": [
    "- Now we finish our second step with converting True and False to 1 and 0."
   ]
  },
  {
   "cell_type": "code",
   "execution_count": 19,
   "id": "7801775b-5d92-4690-bbf5-341778f5b1eb",
   "metadata": {},
   "outputs": [],
   "source": [
    "corona_df['Cough_symptoms'] = corona_df['Cough_symptoms'].astype(bool).astype(int)\n",
    "corona_df['Fever'] = corona_df['Fever'].astype(bool).astype(int)"
   ]
  },
  {
   "cell_type": "code",
   "execution_count": 20,
   "id": "002dd232-c025-4f2c-9eb7-4e2ce117439b",
   "metadata": {},
   "outputs": [
    {
     "data": {
      "text/plain": [
       "count    278847.000000\n",
       "mean          0.052817\n",
       "std           0.223669\n",
       "min           0.000000\n",
       "25%           0.000000\n",
       "50%           0.000000\n",
       "75%           0.000000\n",
       "max           1.000000\n",
       "Name: Corona, dtype: float64"
      ]
     },
     "execution_count": 20,
     "metadata": {},
     "output_type": "execute_result"
    }
   ],
   "source": [
    "corona_df['Corona'].describe()\n",
    "# we need to make sure we are not seeing too many of one type of result because it will give it a bias towards\n",
    "# that particular outcome (like in the case of positive outcome)\n",
    "\n",
    "# another reason is that \n",
    "\n",
    "# we will talke about unbalanced data in future videos"
   ]
  },
  {
   "cell_type": "code",
   "execution_count": 21,
   "id": "bd0683fb-8ba1-48d1-8d7d-25c57bacb30b",
   "metadata": {},
   "outputs": [
    {
     "data": {
      "text/plain": [
       "count    278847.000000\n",
       "mean          0.152338\n",
       "std           0.359349\n",
       "min           0.000000\n",
       "25%           0.000000\n",
       "50%           0.000000\n",
       "75%           0.000000\n",
       "max           1.000000\n",
       "Name: Cough_symptoms, dtype: float64"
      ]
     },
     "execution_count": 21,
     "metadata": {},
     "output_type": "execute_result"
    }
   ],
   "source": [
    "corona_df['Cough_symptoms'].describe()"
   ]
  },
  {
   "cell_type": "code",
   "execution_count": 22,
   "id": "673b510f-1c3e-4b49-bde1-04f5d1ebc37f",
   "metadata": {},
   "outputs": [
    {
     "data": {
      "text/plain": [
       "count    278847.000000\n",
       "mean          0.078907\n",
       "std           0.269594\n",
       "min           0.000000\n",
       "25%           0.000000\n",
       "50%           0.000000\n",
       "75%           0.000000\n",
       "max           1.000000\n",
       "Name: Fever, dtype: float64"
      ]
     },
     "execution_count": 22,
     "metadata": {},
     "output_type": "execute_result"
    }
   ],
   "source": [
    "corona_df['Fever'].describe()"
   ]
  },
  {
   "cell_type": "code",
   "execution_count": 23,
   "id": "278d9da4-579f-4da6-a025-1624f2487ebb",
   "metadata": {},
   "outputs": [
    {
     "data": {
      "text/plain": [
       "count    278847.000000\n",
       "mean          0.006907\n",
       "std           0.082821\n",
       "min           0.000000\n",
       "25%           0.000000\n",
       "50%           0.000000\n",
       "75%           0.000000\n",
       "max           1.000000\n",
       "Name: Sore_throat, dtype: float64"
      ]
     },
     "execution_count": 23,
     "metadata": {},
     "output_type": "execute_result"
    }
   ],
   "source": [
    "corona_df['Sore_throat'].describe()"
   ]
  },
  {
   "cell_type": "code",
   "execution_count": 24,
   "id": "c719bf90-a250-4902-bd63-e3360f1402bc",
   "metadata": {},
   "outputs": [
    {
     "data": {
      "text/plain": [
       "count    278847.000000\n",
       "mean          0.005655\n",
       "std           0.074990\n",
       "min           0.000000\n",
       "25%           0.000000\n",
       "50%           0.000000\n",
       "75%           0.000000\n",
       "max           1.000000\n",
       "Name: Shortness_of_breath, dtype: float64"
      ]
     },
     "execution_count": 24,
     "metadata": {},
     "output_type": "execute_result"
    }
   ],
   "source": [
    "corona_df['Shortness_of_breath'].describe()"
   ]
  },
  {
   "cell_type": "code",
   "execution_count": 25,
   "id": "e57284d0-f0ac-4f53-871d-9d0702d9c2e6",
   "metadata": {},
   "outputs": [
    {
     "data": {
      "text/plain": [
       "count    278847.000000\n",
       "mean          0.008657\n",
       "std           0.092640\n",
       "min           0.000000\n",
       "25%           0.000000\n",
       "50%           0.000000\n",
       "75%           0.000000\n",
       "max           1.000000\n",
       "Name: Headache, dtype: float64"
      ]
     },
     "execution_count": 25,
     "metadata": {},
     "output_type": "execute_result"
    }
   ],
   "source": [
    "corona_df['Headache'].describe()"
   ]
  },
  {
   "cell_type": "code",
   "execution_count": 26,
   "id": "c1d2ae7d-601d-4f4c-ac60-00c3bbefe24e",
   "metadata": {},
   "outputs": [
    {
     "data": {
      "text/plain": [
       "Corona\n",
       "0    264119\n",
       "1     14728\n",
       "Name: count, dtype: int64"
      ]
     },
     "execution_count": 26,
     "metadata": {},
     "output_type": "execute_result"
    }
   ],
   "source": [
    "corona_df.value_counts('Corona')\n",
    "# we have an other category which may be work getting rid of depending on our needs."
   ]
  },
  {
   "cell_type": "markdown",
   "id": "b7518529-06cb-4904-a19b-8bf916ca829c",
   "metadata": {},
   "source": [
    "#### At this point we have about a 1/18 ratio (positive cases/negative cases)\n",
    "- This means that we may cause a bias in our model if we give it more negative cases then positive cases.\n",
    "    - With that in mind we muct make sure to pass about the same of each later on in the trainging."
   ]
  },
  {
   "cell_type": "markdown",
   "id": "43b3b0e5-c65b-465e-b4d8-2036e7d85ecd",
   "metadata": {},
   "source": [
    "#### Questions:\n",
    "- What happens if we represent negative and positive by binary values?\n",
    "    - This allows us to more easily understand the distrobution of our data."
   ]
  },
  {
   "cell_type": "markdown",
   "id": "b5fc383e-cbd1-4e25-b121-189f9f1dd903",
   "metadata": {},
   "source": [
    "### Step 3: Shuffle the rows"
   ]
  },
  {
   "cell_type": "markdown",
   "id": "4d39933f-e731-4675-994d-a515fa68d19a",
   "metadata": {},
   "source": [
    "#### Now to shuffle the rows.\n",
    "This is done because we want to make sure there is less bias.\n",
    "Though, one of the downsides of doing this is that the results are less reproducable."
   ]
  },
  {
   "cell_type": "code",
   "execution_count": 27,
   "id": "94783b2d-694c-43ab-89fd-507bf9122130",
   "metadata": {},
   "outputs": [
    {
     "data": {
      "text/html": [
       "<div>\n",
       "<style scoped>\n",
       "    .dataframe tbody tr th:only-of-type {\n",
       "        vertical-align: middle;\n",
       "    }\n",
       "\n",
       "    .dataframe tbody tr th {\n",
       "        vertical-align: top;\n",
       "    }\n",
       "\n",
       "    .dataframe thead th {\n",
       "        text-align: right;\n",
       "    }\n",
       "</style>\n",
       "<table border=\"1\" class=\"dataframe\">\n",
       "  <thead>\n",
       "    <tr style=\"text-align: right;\">\n",
       "      <th></th>\n",
       "      <th>Cough_symptoms</th>\n",
       "      <th>Fever</th>\n",
       "      <th>Sore_throat</th>\n",
       "      <th>Shortness_of_breath</th>\n",
       "      <th>Headache</th>\n",
       "      <th>Corona</th>\n",
       "      <th>Known_contact</th>\n",
       "    </tr>\n",
       "  </thead>\n",
       "  <tbody>\n",
       "    <tr>\n",
       "      <th>241229</th>\n",
       "      <td>0</td>\n",
       "      <td>0</td>\n",
       "      <td>0</td>\n",
       "      <td>0</td>\n",
       "      <td>0</td>\n",
       "      <td>0</td>\n",
       "      <td>0</td>\n",
       "    </tr>\n",
       "    <tr>\n",
       "      <th>253083</th>\n",
       "      <td>0</td>\n",
       "      <td>0</td>\n",
       "      <td>0</td>\n",
       "      <td>0</td>\n",
       "      <td>0</td>\n",
       "      <td>0</td>\n",
       "      <td>0</td>\n",
       "    </tr>\n",
       "    <tr>\n",
       "      <th>165839</th>\n",
       "      <td>1</td>\n",
       "      <td>0</td>\n",
       "      <td>0</td>\n",
       "      <td>0</td>\n",
       "      <td>0</td>\n",
       "      <td>0</td>\n",
       "      <td>0</td>\n",
       "    </tr>\n",
       "    <tr>\n",
       "      <th>263121</th>\n",
       "      <td>0</td>\n",
       "      <td>0</td>\n",
       "      <td>0</td>\n",
       "      <td>0</td>\n",
       "      <td>0</td>\n",
       "      <td>0</td>\n",
       "      <td>0</td>\n",
       "    </tr>\n",
       "    <tr>\n",
       "      <th>246734</th>\n",
       "      <td>0</td>\n",
       "      <td>0</td>\n",
       "      <td>0</td>\n",
       "      <td>0</td>\n",
       "      <td>0</td>\n",
       "      <td>0</td>\n",
       "      <td>0</td>\n",
       "    </tr>\n",
       "  </tbody>\n",
       "</table>\n",
       "</div>"
      ],
      "text/plain": [
       "        Cough_symptoms  Fever  Sore_throat  Shortness_of_breath  Headache  \\\n",
       "241229               0      0            0                    0         0   \n",
       "253083               0      0            0                    0         0   \n",
       "165839               1      0            0                    0         0   \n",
       "263121               0      0            0                    0         0   \n",
       "246734               0      0            0                    0         0   \n",
       "\n",
       "        Corona  Known_contact  \n",
       "241229       0              0  \n",
       "253083       0              0  \n",
       "165839       0              0  \n",
       "263121       0              0  \n",
       "246734       0              0  "
      ]
     },
     "execution_count": 27,
     "metadata": {},
     "output_type": "execute_result"
    }
   ],
   "source": [
    "corona_df = corona_df.sample(frac = 1)\n",
    "corona_df.head()\n",
    "\n",
    "# If might have problem reproducing the problem\n",
    "# We shuffle the data so that there is less bias.\n",
    "# we want out model to be robust:\n",
    "    # so even if there is some error in the model then we will have to make the generalization \n",
    "    # capability better for our model.\n",
    "    # it is like suffling flashcards when you are trying to memorize them\n"
   ]
  },
  {
   "cell_type": "markdown",
   "id": "fc044b5e-7462-40c6-a895-b836a1fb662c",
   "metadata": {},
   "source": [
    "#### Questions:\n",
    "- What is one major advantage and disadvantage of shuffling the rows?\n",
    "  - One of the major disadvantages of shuffling is that we will have less consistency when we try to reproduce a result."
   ]
  },
  {
   "cell_type": "markdown",
   "id": "10dd76ba-f123-463f-87af-909d9abc4359",
   "metadata": {},
   "source": [
    "### Step 4: Split into Training/Validation Set"
   ]
  },
  {
   "cell_type": "code",
   "execution_count": 28,
   "id": "a2a0eb9b-8c7c-4571-bddd-598a7abbbb22",
   "metadata": {},
   "outputs": [
    {
     "data": {
      "text/html": [
       "<div>\n",
       "<style scoped>\n",
       "    .dataframe tbody tr th:only-of-type {\n",
       "        vertical-align: middle;\n",
       "    }\n",
       "\n",
       "    .dataframe tbody tr th {\n",
       "        vertical-align: top;\n",
       "    }\n",
       "\n",
       "    .dataframe thead th {\n",
       "        text-align: right;\n",
       "    }\n",
       "</style>\n",
       "<table border=\"1\" class=\"dataframe\">\n",
       "  <thead>\n",
       "    <tr style=\"text-align: right;\">\n",
       "      <th></th>\n",
       "      <th>Cough_symptoms</th>\n",
       "      <th>Fever</th>\n",
       "      <th>Sore_throat</th>\n",
       "      <th>Shortness_of_breath</th>\n",
       "      <th>Headache</th>\n",
       "      <th>Known_contact</th>\n",
       "    </tr>\n",
       "  </thead>\n",
       "  <tbody>\n",
       "    <tr>\n",
       "      <th>207362</th>\n",
       "      <td>0</td>\n",
       "      <td>0</td>\n",
       "      <td>0</td>\n",
       "      <td>0</td>\n",
       "      <td>0</td>\n",
       "      <td>0</td>\n",
       "    </tr>\n",
       "    <tr>\n",
       "      <th>194146</th>\n",
       "      <td>1</td>\n",
       "      <td>0</td>\n",
       "      <td>0</td>\n",
       "      <td>0</td>\n",
       "      <td>0</td>\n",
       "      <td>0</td>\n",
       "    </tr>\n",
       "    <tr>\n",
       "      <th>33735</th>\n",
       "      <td>0</td>\n",
       "      <td>0</td>\n",
       "      <td>0</td>\n",
       "      <td>0</td>\n",
       "      <td>0</td>\n",
       "      <td>0</td>\n",
       "    </tr>\n",
       "    <tr>\n",
       "      <th>38887</th>\n",
       "      <td>1</td>\n",
       "      <td>1</td>\n",
       "      <td>0</td>\n",
       "      <td>0</td>\n",
       "      <td>0</td>\n",
       "      <td>1</td>\n",
       "    </tr>\n",
       "    <tr>\n",
       "      <th>40726</th>\n",
       "      <td>0</td>\n",
       "      <td>0</td>\n",
       "      <td>0</td>\n",
       "      <td>0</td>\n",
       "      <td>0</td>\n",
       "      <td>0</td>\n",
       "    </tr>\n",
       "  </tbody>\n",
       "</table>\n",
       "</div>"
      ],
      "text/plain": [
       "        Cough_symptoms  Fever  Sore_throat  Shortness_of_breath  Headache  \\\n",
       "207362               0      0            0                    0         0   \n",
       "194146               1      0            0                    0         0   \n",
       "33735                0      0            0                    0         0   \n",
       "38887                1      1            0                    0         0   \n",
       "40726                0      0            0                    0         0   \n",
       "\n",
       "        Known_contact  \n",
       "207362              0  \n",
       "194146              0  \n",
       "33735               0  \n",
       "38887               1  \n",
       "40726               0  "
      ]
     },
     "execution_count": 28,
     "metadata": {},
     "output_type": "execute_result"
    }
   ],
   "source": [
    "from sklearn.model_selection import train_test_split\n",
    "\n",
    "X = corona_df.drop(['Corona'], axis = 'columns')\n",
    "y = corona_df['Corona']\n",
    "X_train, X_test, y_train, y_test = train_test_split(X, y, test_size = 0.2, random_state = 42)\n",
    "X_train.head()\n",
    "\n",
    "# if data is not performing wildly you may not need to normalize the data.\n",
    "# we need to determine if all data is important.\n",
    "\n",
    "# closer to -1 or +1 then it has high impact on the data.\n",
    "\n",
    "# Maybe dropping data would help."
   ]
  },
  {
   "cell_type": "code",
   "execution_count": 29,
   "id": "b04ffbf7-17ae-44cd-a44f-27305c202ed6",
   "metadata": {},
   "outputs": [
    {
     "data": {
      "text/plain": [
       "(array([0, 1], dtype=int64), array([211283,  11794], dtype=int64))"
      ]
     },
     "execution_count": 29,
     "metadata": {},
     "output_type": "execute_result"
    }
   ],
   "source": [
    "#show the contents of training data split:\n",
    "np.unique(y_train, return_counts=True)"
   ]
  },
  {
   "cell_type": "code",
   "execution_count": 30,
   "id": "2b779758-7e10-4b2b-9c14-bfd08859f6dc",
   "metadata": {},
   "outputs": [
    {
     "data": {
      "text/plain": [
       "(array([0, 1], dtype=int64), array([52836,  2934], dtype=int64))"
      ]
     },
     "execution_count": 30,
     "metadata": {},
     "output_type": "execute_result"
    }
   ],
   "source": [
    "#show the contents of testing data split:\n",
    "np.unique(y_test, return_counts=True)"
   ]
  },
  {
   "cell_type": "markdown",
   "id": "9b0d78e9-3e5f-4487-aa88-67047a4671c9",
   "metadata": {},
   "source": [
    "### Step 5: Normalize (if needed)"
   ]
  },
  {
   "cell_type": "code",
   "execution_count": 31,
   "id": "84a4ecf1-5fe9-4046-8284-c42071793b21",
   "metadata": {},
   "outputs": [
    {
     "data": {
      "image/png": "[encoded data removed]",
      "text/plain": [
       "<Figure size 640x480 with 1 Axes>"
      ]
     },
     "metadata": {},
     "output_type": "display_data"
    },
    {
     "data": {
      "image/png": "[encoded data removed]",
      "text/plain": [
       "<Figure size 640x480 with 1 Axes>"
      ]
     },
     "metadata": {},
     "output_type": "display_data"
    },
    {
     "data": {
      "image/png": "[encoded data removed]",
      "text/plain": [
       "<Figure size 640x480 with 1 Axes>"
      ]
     },
     "metadata": {},
     "output_type": "display_data"
    },
    {
     "data": {
      "image/png": "[encoded data removed]",
      "text/plain": [
       "<Figure size 640x480 with 1 Axes>"
      ]
     },
     "metadata": {},
     "output_type": "display_data"
    },
    {
     "data": {
      "image/png": "[encoded data removed]",
      "text/plain": [
       "<Figure size 640x480 with 1 Axes>"
      ]
     },
     "metadata": {},
     "output_type": "display_data"
    }
   ],
   "source": [
    "for predictor in X_train.columns[1:]:\n",
    "    plt.hist(X_train[predictor])\n",
    "    plt.ylabel(predictor)\n",
    "    plt.show()"
   ]
  },
  {
   "cell_type": "markdown",
   "id": "ad22010a-d7bd-4b99-892f-1c68b320bb32",
   "metadata": {},
   "source": [
    "It is obvous that we need to normalize.\n",
    "Everything is leaning towards 0."
   ]
  },
  {
   "cell_type": "code",
   "execution_count": 32,
   "id": "5449bd69-c403-47e8-b8eb-e5790e223f54",
   "metadata": {},
   "outputs": [
    {
     "data": {
      "text/plain": [
       "Cough_symptoms         0.152427\n",
       "Fever                  0.078870\n",
       "Sore_throat            0.006948\n",
       "Shortness_of_breath    0.005707\n",
       "Headache               0.008746\n",
       "Known_contact          0.129265\n",
       "dtype: float64"
      ]
     },
     "execution_count": 32,
     "metadata": {},
     "output_type": "execute_result"
    }
   ],
   "source": [
    "X_train.mean()"
   ]
  },
  {
   "cell_type": "code",
   "execution_count": 33,
   "id": "a04a9a96-1903-4770-8cc0-d3f2f64eca00",
   "metadata": {},
   "outputs": [
    {
     "data": {
      "text/plain": [
       "Cough_symptoms         0.359435\n",
       "Fever                  0.269536\n",
       "Sore_throat            0.083066\n",
       "Shortness_of_breath    0.075326\n",
       "Headache               0.093110\n",
       "Known_contact          0.335494\n",
       "dtype: float64"
      ]
     },
     "execution_count": 33,
     "metadata": {},
     "output_type": "execute_result"
    }
   ],
   "source": [
    "X_train.std()"
   ]
  },
  {
   "cell_type": "code",
   "execution_count": 34,
   "id": "105e2315-3634-4451-8500-562fbccb1f88",
   "metadata": {},
   "outputs": [
    {
     "data": {
      "text/html": [
       "<div>\n",
       "<style scoped>\n",
       "    .dataframe tbody tr th:only-of-type {\n",
       "        vertical-align: middle;\n",
       "    }\n",
       "\n",
       "    .dataframe tbody tr th {\n",
       "        vertical-align: top;\n",
       "    }\n",
       "\n",
       "    .dataframe thead th {\n",
       "        text-align: right;\n",
       "    }\n",
       "</style>\n",
       "<table border=\"1\" class=\"dataframe\">\n",
       "  <thead>\n",
       "    <tr style=\"text-align: right;\">\n",
       "      <th></th>\n",
       "      <th>Cough_symptoms</th>\n",
       "      <th>Fever</th>\n",
       "      <th>Sore_throat</th>\n",
       "      <th>Shortness_of_breath</th>\n",
       "      <th>Headache</th>\n",
       "      <th>Known_contact</th>\n",
       "    </tr>\n",
       "  </thead>\n",
       "  <tbody>\n",
       "    <tr>\n",
       "      <th>207362</th>\n",
       "      <td>-0.424074</td>\n",
       "      <td>-0.292613</td>\n",
       "      <td>-0.083647</td>\n",
       "      <td>-0.075758</td>\n",
       "      <td>-0.093931</td>\n",
       "      <td>-0.385297</td>\n",
       "    </tr>\n",
       "    <tr>\n",
       "      <th>194146</th>\n",
       "      <td>2.358068</td>\n",
       "      <td>-0.292613</td>\n",
       "      <td>-0.083647</td>\n",
       "      <td>-0.075758</td>\n",
       "      <td>-0.093931</td>\n",
       "      <td>-0.385297</td>\n",
       "    </tr>\n",
       "    <tr>\n",
       "      <th>33735</th>\n",
       "      <td>-0.424074</td>\n",
       "      <td>-0.292613</td>\n",
       "      <td>-0.083647</td>\n",
       "      <td>-0.075758</td>\n",
       "      <td>-0.093931</td>\n",
       "      <td>-0.385297</td>\n",
       "    </tr>\n",
       "    <tr>\n",
       "      <th>38887</th>\n",
       "      <td>2.358068</td>\n",
       "      <td>3.417470</td>\n",
       "      <td>-0.083647</td>\n",
       "      <td>-0.075758</td>\n",
       "      <td>-0.093931</td>\n",
       "      <td>2.595386</td>\n",
       "    </tr>\n",
       "    <tr>\n",
       "      <th>40726</th>\n",
       "      <td>-0.424074</td>\n",
       "      <td>-0.292613</td>\n",
       "      <td>-0.083647</td>\n",
       "      <td>-0.075758</td>\n",
       "      <td>-0.093931</td>\n",
       "      <td>-0.385297</td>\n",
       "    </tr>\n",
       "  </tbody>\n",
       "</table>\n",
       "</div>"
      ],
      "text/plain": [
       "        Cough_symptoms     Fever  Sore_throat  Shortness_of_breath  Headache  \\\n",
       "207362       -0.424074 -0.292613    -0.083647            -0.075758 -0.093931   \n",
       "194146        2.358068 -0.292613    -0.083647            -0.075758 -0.093931   \n",
       "33735        -0.424074 -0.292613    -0.083647            -0.075758 -0.093931   \n",
       "38887         2.358068  3.417470    -0.083647            -0.075758 -0.093931   \n",
       "40726        -0.424074 -0.292613    -0.083647            -0.075758 -0.093931   \n",
       "\n",
       "        Known_contact  \n",
       "207362      -0.385297  \n",
       "194146      -0.385297  \n",
       "33735       -0.385297  \n",
       "38887        2.595386  \n",
       "40726       -0.385297  "
      ]
     },
     "execution_count": 34,
     "metadata": {},
     "output_type": "execute_result"
    }
   ],
   "source": [
    "normalized_df = X_train.apply(lambda x: (x-x.mean())/ x.std(), axis=0)\n",
    "normalized_df.head()"
   ]
  },
  {
   "cell_type": "markdown",
   "id": "89fe794d-d679-4fa9-99f7-9c4059ff6777",
   "metadata": {},
   "source": [
    "#### Questions:\n",
    "- Why did we use only the training data to obtain mean and std?"
   ]
  },
  {
   "cell_type": "markdown",
   "id": "d99a3702-9d7e-45a0-a423-c551193778e6",
   "metadata": {},
   "source": [
    "### Step 6: Review the dimensions of training & validation set\n",
    "**Also preview some of the \"input features\" and \"correct labels\" for the datasets**"
   ]
  },
  {
   "cell_type": "code",
   "execution_count": 35,
   "id": "a960d809-c5a9-40f8-9778-8fad9026e885",
   "metadata": {},
   "outputs": [
    {
     "data": {
      "text/plain": [
       "(223077, 6)"
      ]
     },
     "execution_count": 35,
     "metadata": {},
     "output_type": "execute_result"
    }
   ],
   "source": [
    "X_train.shape"
   ]
  },
  {
   "cell_type": "code",
   "execution_count": 36,
   "id": "ce9a461d-8810-4002-a94d-66acb8feee13",
   "metadata": {},
   "outputs": [
    {
     "data": {
      "text/plain": [
       "(55770, 6)"
      ]
     },
     "execution_count": 36,
     "metadata": {},
     "output_type": "execute_result"
    }
   ],
   "source": [
    "X_test.shape"
   ]
  },
  {
   "cell_type": "markdown",
   "id": "b5643c10-dc31-4332-8319-0a5e2775389a",
   "metadata": {},
   "source": [
    "### Step 7: Create a machine learning model\n",
    "#### Questions to think about\n",
    "- what the data is saying?\n",
    "- what kind of model(learning agent) is suited for the data?\n",
    "- are all predictors necessary for the agent?"
   ]
  },
  {
   "cell_type": "code",
   "execution_count": 37,
   "id": "4ddbc48a-8576-463b-95c7-b91d13060760",
   "metadata": {},
   "outputs": [
    {
     "data": {
      "image/png": "[encoded data removed]",
      "text/plain": [
       "<Figure size 2000x1000 with 2 Axes>"
      ]
     },
     "metadata": {},
     "output_type": "display_data"
    }
   ],
   "source": [
    "sns.set()\n",
    "plt.figure(figsize = (20,10))\n",
    "sns.heatmap(corona_df.corr(), cmap='GnBu', annot=True)\n",
    "plt.title('Correlation Graph')\n",
    "plt.show()"
   ]
  },
  {
   "cell_type": "code",
   "execution_count": 41,
   "id": "da65bf67-b255-41fa-a3f8-aa1b35c63813",
   "metadata": {},
   "outputs": [
    {
     "data": {
      "text/plain": [
       "<Axes: >"
      ]
     },
     "execution_count": 41,
     "metadata": {},
     "output_type": "execute_result"
    },
    {
     "data": {
      "image/png": "[encoded data removed]",
      "text/plain": [
       "<Figure size 640x480 with 2 Axes>"
      ]
     },
     "metadata": {},
     "output_type": "display_data"
    }
   ],
   "source": [
    "# Plotting the heatmap to check the correlation between the Target Label and other features\n",
    "sns.heatmap(corona_df.corr()[['Corona']].sort_values(by='Corona', ascending=False), vmin=-1, vmax=1, annot=True, cmap='GnBu')"
   ]
  },
  {
   "cell_type": "markdown",
   "id": "12c0ef3c-c572-433a-816a-5b810cce874f",
   "metadata": {},
   "source": [
    "### Step 8: Train the model"
   ]
  },
  {
   "cell_type": "code",
   "execution_count": 43,
   "id": "b60f3f57-1bae-49dc-a85a-19e0aeaf7991",
   "metadata": {},
   "outputs": [
    {
     "data": {
      "text/html": [
       "<style>#sk-container-id-2 {color: black;}#sk-container-id-2 pre{padding: 0;}#sk-container-id-2 div.sk-toggleable {background-color: white;}#sk-container-id-2 label.sk-toggleable__label {cursor: pointer;display: block;width: 100%;margin-bottom: 0;padding: 0.3em;box-sizing: border-box;text-align: center;}#sk-container-id-2 label.sk-toggleable__label-arrow:before {content: \"▸\";float: left;margin-right: 0.25em;color: #696969;}#sk-container-id-2 label.sk-toggleable__label-arrow:hover:before {color: black;}#sk-container-id-2 div.sk-estimator:hover label.sk-toggleable__label-arrow:before {color: black;}#sk-container-id-2 div.sk-toggleable__content {max-height: 0;max-width: 0;overflow: hidden;text-align: left;background-color: #f0f8ff;}#sk-container-id-2 div.sk-toggleable__content pre {margin: 0.2em;color: black;border-radius: 0.25em;background-color: #f0f8ff;}#sk-container-id-2 input.sk-toggleable__control:checked~div.sk-toggleable__content {max-height: 200px;max-width: 100%;overflow: auto;}#sk-container-id-2 input.sk-toggleable__control:checked~label.sk-toggleable__label-arrow:before {content: \"▾\";}#sk-container-id-2 div.sk-estimator input.sk-toggleable__control:checked~label.sk-toggleable__label {background-color: #d4ebff;}#sk-container-id-2 div.sk-label input.sk-toggleable__control:checked~label.sk-toggleable__label {background-color: #d4ebff;}#sk-container-id-2 input.sk-hidden--visually {border: 0;clip: rect(1px 1px 1px 1px);clip: rect(1px, 1px, 1px, 1px);height: 1px;margin: -1px;overflow: hidden;padding: 0;position: absolute;width: 1px;}#sk-container-id-2 div.sk-estimator {font-family: monospace;background-color: #f0f8ff;border: 1px dotted black;border-radius: 0.25em;box-sizing: border-box;margin-bottom: 0.5em;}#sk-container-id-2 div.sk-estimator:hover {background-color: #d4ebff;}#sk-container-id-2 div.sk-parallel-item::after {content: \"\";width: 100%;border-bottom: 1px solid gray;flex-grow: 1;}#sk-container-id-2 div.sk-label:hover label.sk-toggleable__label {background-color: #d4ebff;}#sk-container-id-2 div.sk-serial::before {content: \"\";position: absolute;border-left: 1px solid gray;box-sizing: border-box;top: 0;bottom: 0;left: 50%;z-index: 0;}#sk-container-id-2 div.sk-serial {display: flex;flex-direction: column;align-items: center;background-color: white;padding-right: 0.2em;padding-left: 0.2em;position: relative;}#sk-container-id-2 div.sk-item {position: relative;z-index: 1;}#sk-container-id-2 div.sk-parallel {display: flex;align-items: stretch;justify-content: center;background-color: white;position: relative;}#sk-container-id-2 div.sk-item::before, #sk-container-id-2 div.sk-parallel-item::before {content: \"\";position: absolute;border-left: 1px solid gray;box-sizing: border-box;top: 0;bottom: 0;left: 50%;z-index: -1;}#sk-container-id-2 div.sk-parallel-item {display: flex;flex-direction: column;z-index: 1;position: relative;background-color: white;}#sk-container-id-2 div.sk-parallel-item:first-child::after {align-self: flex-end;width: 50%;}#sk-container-id-2 div.sk-parallel-item:last-child::after {align-self: flex-start;width: 50%;}#sk-container-id-2 div.sk-parallel-item:only-child::after {width: 0;}#sk-container-id-2 div.sk-dashed-wrapped {border: 1px dashed gray;margin: 0 0.4em 0.5em 0.4em;box-sizing: border-box;padding-bottom: 0.4em;background-color: white;}#sk-container-id-2 div.sk-label label {font-family: monospace;font-weight: bold;display: inline-block;line-height: 1.2em;}#sk-container-id-2 div.sk-label-container {text-align: center;}#sk-container-id-2 div.sk-container {/* jupyter's `normalize.less` sets `[hidden] { display: none; }` but bootstrap.min.css set `[hidden] { display: none !important; }` so we also need the `!important` here to be able to override the default hidden behavior on the sphinx rendered scikit-learn.org. See: https://github.com/scikit-learn/scikit-learn/issues/21755 */display: inline-block !important;position: relative;}#sk-container-id-2 div.sk-text-repr-fallback {display: none;}</style><div id=\"sk-container-id-2\" class=\"sk-top-container\"><div class=\"sk-text-repr-fallback\"><pre>SVC(kernel=&#x27;linear&#x27;)</pre><b>In a Jupyter environment, please rerun this cell to show the HTML representation or trust the notebook. <br />On GitHub, the HTML representation is unable to render, please try loading this page with nbviewer.org.</b></div><div class=\"sk-container\" hidden><div class=\"sk-item\"><div class=\"sk-estimator sk-toggleable\"><input class=\"sk-toggleable__control sk-hidden--visually\" id=\"sk-estimator-id-2\" type=\"checkbox\" checked><label for=\"sk-estimator-id-2\" class=\"sk-toggleable__label sk-toggleable__label-arrow\">SVC</label><div class=\"sk-toggleable__content\"><pre>SVC(kernel=&#x27;linear&#x27;)</pre></div></div></div></div></div>"
      ],
      "text/plain": [
       "SVC(kernel='linear')"
      ]
     },
     "execution_count": 43,
     "metadata": {},
     "output_type": "execute_result"
    }
   ],
   "source": [
    "# we could just train the data with the lines imput here but we want to make sure our data is good for our model.\n",
    "model = SVC(kernel='linear')\n",
    "model.fit(X_train, y_train)"
   ]
  },
  {
   "cell_type": "markdown",
   "id": "e6843632-4335-4198-9d27-3fe890f536c3",
   "metadata": {},
   "source": [
    "### Step 9: Evaluate the model on the training data"
   ]
  },
  {
   "cell_type": "markdown",
   "id": "4c8e045d-4737-4b8d-b150-7533f52f3bd6",
   "metadata": {},
   "source": [
    "### Step 10: Evaluate on validation set"
   ]
  },
  {
   "cell_type": "markdown",
   "id": "33b8d67f-ab9d-46a2-8c82-45aa8128efca",
   "metadata": {},
   "source": [
    "### Step 11: Check what what the model actually predicts"
   ]
  },
  {
   "cell_type": "markdown",
   "id": "ca67f9eb-e94c-4766-a3fc-a1738ff6149b",
   "metadata": {},
   "source": [
    "### Step 12: Is 'accuracy' sufficient to evaluate our agent?"
   ]
  },
  {
   "cell_type": "markdown",
   "id": "81c4f674-a875-4b51-a9e9-2e5e97fb7bd8",
   "metadata": {},
   "source": [
    "### Step 13: How can the performance be improved?"
   ]
  }
 ],
 "metadata": {
  "kernelspec": {
   "display_name": "Python 3 (ipykernel)",
   "language": "python",
   "name": "python3"
  },
  "language_info": {
   "codemirror_mode": {
    "name": "ipython",
    "version": 3
   },
   "file_extension": ".py",
   "mimetype": "text/x-python",
   "name": "python",
   "nbconvert_exporter": "python",
   "pygments_lexer": "ipython3",
   "version": "3.11.3"
  }
 },
 "nbformat": 4,
 "nbformat_minor": 5
}
